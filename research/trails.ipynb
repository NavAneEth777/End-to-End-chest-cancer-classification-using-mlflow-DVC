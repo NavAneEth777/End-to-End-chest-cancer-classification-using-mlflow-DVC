{
 "cells": [
  {
   "cell_type": "markdown",
   "metadata": {},
   "source": [
    "## downloading the data from gdrive"
   ]
  },
  {
   "cell_type": "code",
   "execution_count": 1,
   "metadata": {},
   "outputs": [
    {
     "data": {
      "text/plain": [
       "'1L-VzmNazbb_S8wPHA_DrOTn8QmPe4cX0'"
      ]
     },
     "execution_count": 1,
     "metadata": {},
     "output_type": "execute_result"
    }
   ],
   "source": [
    "import gdown\n",
    "url = \"https://drive.google.com/file/d/1L-VzmNazbb_S8wPHA_DrOTn8QmPe4cX0/view?usp=drive_link\"\n",
    "\n",
    "# getting file id\n",
    "file_id = url.split(\"/\")[-2]\n",
    "file_id"
   ]
  },
  {
   "cell_type": "code",
   "execution_count": 2,
   "metadata": {},
   "outputs": [
    {
     "name": "stderr",
     "output_type": "stream",
     "text": [
      "Downloading...\n",
      "From (original): https://drive.google.com/uc?/export=download&id=1L-VzmNazbb_S8wPHA_DrOTn8QmPe4cX0\n",
      "From (redirected): https://drive.google.com/uc?%2Fexport=download&id=1L-VzmNazbb_S8wPHA_DrOTn8QmPe4cX0&confirm=t&uuid=86d9f21a-0a79-4d0c-bd23-c2779b0b033d\n",
      "To: /Users/allurinavaneeth/PROJECTS/Deep Learning/End-to-End-chest-cancer-classification-using-mlflow-DVC/research/Chest-CT-Scan-data.zip\n",
      "100%|██████████| 49.0M/49.0M [00:15<00:00, 3.14MB/s]\n"
     ]
    },
    {
     "data": {
      "text/plain": [
       "'Chest-CT-Scan-data.zip'"
      ]
     },
     "execution_count": 2,
     "metadata": {},
     "output_type": "execute_result"
    }
   ],
   "source": [
    "prefix = 'https://drive.google.com/uc?/export=download&id='\n",
    "gdown.download(prefix+file_id, \"Chest-CT-Scan-data.zip\")"
   ]
  },
  {
   "cell_type": "code",
   "execution_count": null,
   "metadata": {},
   "outputs": [],
   "source": []
  }
 ],
 "metadata": {
  "kernelspec": {
   "display_name": "venv",
   "language": "python",
   "name": "python3"
  },
  "language_info": {
   "codemirror_mode": {
    "name": "ipython",
    "version": 3
   },
   "file_extension": ".py",
   "mimetype": "text/x-python",
   "name": "python",
   "nbconvert_exporter": "python",
   "pygments_lexer": "ipython3",
   "version": "3.10.10"
  }
 },
 "nbformat": 4,
 "nbformat_minor": 2
}
